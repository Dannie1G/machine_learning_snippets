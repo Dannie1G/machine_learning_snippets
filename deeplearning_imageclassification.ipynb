{
 "cells": [
  {
   "cell_type": "markdown",
   "metadata": {},
   "source": [
    "# Cambridge Spark Deep Learning Tutorial Series\n",
    "## MNIST and CIFAR-10\n",
    "1. https://cambridgespark.com/content/tutorials/deep-learning-for-complete-beginners-recognising-handwritten-digits/index.html\n",
    "2. https://cambridgespark.com/content/tutorials/convolutional-neural-networks-with-keras/index.html\n",
    "3. https://cambridgespark.com/content/tutorials/neural-networks-tuning-techniques/index.html"
   ]
  },
  {
   "cell_type": "markdown",
   "metadata": {},
   "source": [
    "### Applying a deep MLP to MNIST"
   ]
  },
  {
   "cell_type": "code",
   "execution_count": 1,
   "metadata": {},
   "outputs": [
    {
     "name": "stderr",
     "output_type": "stream",
     "text": [
      "/Users/dannie/anaconda3/envs/playtime/lib/python3.6/site-packages/h5py/__init__.py:36: FutureWarning: Conversion of the second argument of issubdtype from `float` to `np.floating` is deprecated. In future, it will be treated as `np.float64 == np.dtype(float).type`.\n",
      "  from ._conv import register_converters as _register_converters\n",
      "Using TensorFlow backend.\n"
     ]
    }
   ],
   "source": [
    "from keras.datasets import mnist \n",
    "# subroutines for fetching the MNIST dataset\n",
    "from keras.models import Model \n",
    "# basic class for specifying and training a neural network\n",
    "from keras.layers import Input, Dense \n",
    "# the two types of neural network layer we will be using\n",
    "from keras.utils import np_utils \n",
    "# utilities for one-hot encoding of ground truth values"
   ]
  },
  {
   "cell_type": "code",
   "execution_count": 2,
   "metadata": {},
   "outputs": [],
   "source": [
    "# hyperparameters\n",
    "batch_size = 128 # in each iteration, we consider 128 training examples at once\n",
    "num_epochs = 20 # we iterate twenty times over the entire training set\n",
    "hidden_size = 512 # there will be 512 neurons in both hidden layers"
   ]
  },
  {
   "cell_type": "code",
   "execution_count": 3,
   "metadata": {},
   "outputs": [],
   "source": [
    "num_train = 60000\n",
    "num_test = 10000\n",
    "\n",
    "# MNIST images are 28x28 and greyscale\n",
    "height, width, depth = 28, 28, 1 \n",
    "\n",
    "#fetch MNIST data\n",
    "(x_train, y_train), (x_test, y_test) = mnist.load_data()"
   ]
  },
  {
   "cell_type": "code",
   "execution_count": 4,
   "metadata": {},
   "outputs": [],
   "source": [
    "# there 10 classes (1 per digit)\n",
    "num_classes = 10\n",
    "\n",
    "# flatten data to 1D\n",
    "x_train = x_train.reshape(num_train, height * width)\n",
    "x_test = x_test.reshape(num_test, height * width)\n",
    "\n",
    "x_train = x_train.astype('float32')\n",
    "x_test = x_test.astype('float32')\n",
    "\n",
    "# normalise to 0-1 range\n",
    "x_train /= 255\n",
    "x_test /= 255\n",
    "\n",
    "# one-hot encode the labels\n",
    "y_train = np_utils.to_categorical(y_train, num_classes)\n",
    "y_test = np_utils.to_categorical(y_test, num_classes)"
   ]
  },
  {
   "cell_type": "code",
   "execution_count": 5,
   "metadata": {},
   "outputs": [],
   "source": [
    "# Our input is a 1D vector of size 784\n",
    "inp = Input(shape=(height * width,))\n",
    "\n",
    "# First hidden ReLU layer\n",
    "hidden_1 = Dense(hidden_size, activation='relu')(inp)\n",
    "# Second hidden Relu layer\n",
    "hidden_2 = Dense(hidden_size, activation='relu')(hidden_1)\n",
    "hidden_3 = Dense(hidden_size, activation='relu')(hidden_2)\n",
    "# Output softmax layer\n",
    "out = Dense(num_classes, activation='softmax')(hidden_3)"
   ]
  },
  {
   "cell_type": "code",
   "execution_count": 6,
   "metadata": {},
   "outputs": [],
   "source": [
    "model = Model(inputs=inp, outputs=out)"
   ]
  },
  {
   "cell_type": "code",
   "execution_count": 7,
   "metadata": {},
   "outputs": [],
   "source": [
    "# using the cross-entropy loss function\n",
    "# using the Adam optimiser\n",
    "# reporting the accuracy\n",
    "model.compile(loss='categorical_crossentropy', optimizer='adam',\n",
    "             metrics=['accuracy'])"
   ]
  },
  {
   "cell_type": "code",
   "execution_count": 8,
   "metadata": {},
   "outputs": [
    {
     "name": "stdout",
     "output_type": "stream",
     "text": [
      "Train on 54000 samples, validate on 6000 samples\n",
      "Epoch 1/20\n",
      "54000/54000 [==============================] - 8s 146us/step - loss: 0.2239 - acc: 0.9332 - val_loss: 0.0858 - val_acc: 0.9715\n",
      "Epoch 2/20\n",
      "54000/54000 [==============================] - 8s 146us/step - loss: 0.0857 - acc: 0.9733 - val_loss: 0.0801 - val_acc: 0.9752\n",
      "Epoch 3/20\n",
      "54000/54000 [==============================] - 8s 146us/step - loss: 0.0554 - acc: 0.9827 - val_loss: 0.0896 - val_acc: 0.9752\n",
      "Epoch 4/20\n",
      "54000/54000 [==============================] - 8s 153us/step - loss: 0.0413 - acc: 0.9869 - val_loss: 0.0815 - val_acc: 0.9768\n",
      "Epoch 5/20\n",
      "54000/54000 [==============================] - 8s 156us/step - loss: 0.0354 - acc: 0.9887 - val_loss: 0.0732 - val_acc: 0.9780\n",
      "Epoch 6/20\n",
      "54000/54000 [==============================] - 9s 158us/step - loss: 0.0274 - acc: 0.9911 - val_loss: 0.0862 - val_acc: 0.9770\n",
      "Epoch 7/20\n",
      "54000/54000 [==============================] - 8s 143us/step - loss: 0.0201 - acc: 0.9935 - val_loss: 0.0717 - val_acc: 0.9837\n",
      "Epoch 8/20\n",
      "54000/54000 [==============================] - 7s 128us/step - loss: 0.0226 - acc: 0.9926 - val_loss: 0.0837 - val_acc: 0.9810\n",
      "Epoch 9/20\n",
      "54000/54000 [==============================] - 7s 129us/step - loss: 0.0201 - acc: 0.9934 - val_loss: 0.0804 - val_acc: 0.9800\n",
      "Epoch 10/20\n",
      "54000/54000 [==============================] - 7s 127us/step - loss: 0.0186 - acc: 0.9940 - val_loss: 0.0743 - val_acc: 0.9832\n",
      "Epoch 11/20\n",
      "54000/54000 [==============================] - 7s 137us/step - loss: 0.0155 - acc: 0.9951 - val_loss: 0.1169 - val_acc: 0.9753\n",
      "Epoch 12/20\n",
      "54000/54000 [==============================] - 7s 133us/step - loss: 0.0139 - acc: 0.9955 - val_loss: 0.1022 - val_acc: 0.9802\n",
      "Epoch 13/20\n",
      "54000/54000 [==============================] - 7s 128us/step - loss: 0.0143 - acc: 0.9957 - val_loss: 0.0936 - val_acc: 0.9810\n",
      "Epoch 14/20\n",
      "54000/54000 [==============================] - 7s 133us/step - loss: 0.0143 - acc: 0.9955 - val_loss: 0.0839 - val_acc: 0.9810\n",
      "Epoch 15/20\n",
      "54000/54000 [==============================] - 8s 147us/step - loss: 0.0131 - acc: 0.9960 - val_loss: 0.0851 - val_acc: 0.9832\n",
      "Epoch 16/20\n",
      "54000/54000 [==============================] - 8s 148us/step - loss: 0.0094 - acc: 0.9971 - val_loss: 0.0825 - val_acc: 0.9827\n",
      "Epoch 17/20\n",
      "54000/54000 [==============================] - 7s 130us/step - loss: 0.0111 - acc: 0.9966 - val_loss: 0.0912 - val_acc: 0.9812\n",
      "Epoch 18/20\n",
      "54000/54000 [==============================] - 7s 126us/step - loss: 0.0134 - acc: 0.9960 - val_loss: 0.0748 - val_acc: 0.9840\n",
      "Epoch 19/20\n",
      "54000/54000 [==============================] - 7s 135us/step - loss: 0.0090 - acc: 0.9974 - val_loss: 0.0903 - val_acc: 0.9805\n",
      "Epoch 20/20\n",
      "54000/54000 [==============================] - 9s 172us/step - loss: 0.0083 - acc: 0.9975 - val_loss: 0.0865 - val_acc: 0.9815\n",
      "10000/10000 [==============================] - 1s 57us/step\n"
     ]
    },
    {
     "data": {
      "text/plain": [
       "[0.10409595887126574, 0.9813]"
      ]
     },
     "execution_count": 8,
     "metadata": {},
     "output_type": "execute_result"
    }
   ],
   "source": [
    "# train model, and hold out 10% of data for validation\n",
    "model.fit(x_train, y_train, batch_size=batch_size, epochs=num_epochs,\n",
    "          verbose=1, validation_split=0.1)\n",
    "\n",
    "# evaluate model with test set\n",
    "model.evaluate(x_test, y_test, verbose=1)"
   ]
  },
  {
   "cell_type": "markdown",
   "metadata": {},
   "source": [
    "### Applying a deep CNN to CIFAR-10"
   ]
  },
  {
   "cell_type": "code",
   "execution_count": 9,
   "metadata": {},
   "outputs": [],
   "source": [
    "from keras.datasets import cifar10 \n",
    "# fetching the CIFAR-10 dataset\n",
    "from keras.models import Model \n",
    "# basic class for specifying and training a neural network\n",
    "from keras.layers import Input, Convolution2D, MaxPooling2D, Dense, Dropout, Flatten\n",
    "from keras.utils import np_utils \n",
    "# utilities for one-hot encoding of ground truth values\n",
    "import numpy as np"
   ]
  },
  {
   "cell_type": "code",
   "execution_count": 10,
   "metadata": {},
   "outputs": [],
   "source": [
    "batch_size = 32 \n",
    "# in each iteration, we consider 32 training examples at once\n",
    "num_epochs = 200 \n",
    "# we iterate 200 times over the entire training set\n",
    "kernel_size = 3 \n",
    "# we will use 3x3 kernels throughout\n",
    "pool_size = 2 \n",
    "# we will use 2x2 pooling throughout\n",
    "conv_depth_1 = 32 \n",
    "# we will initially have 32 kernels per conv. layer...\n",
    "conv_depth_2 = 64 \n",
    "# ...switching to 64 after the first pooling layer\n",
    "drop_prob_1 = 0.25 \n",
    "# dropout after pooling with probability 0.25\n",
    "drop_prob_2 = 0.5 \n",
    "# dropout in the fully connected layer with probability 0.5\n",
    "hidden_size = 512 \n",
    "# the fully connected (FC) layer will have 512 neurons"
   ]
  },
  {
   "cell_type": "code",
   "execution_count": 11,
   "metadata": {},
   "outputs": [],
   "source": [
    "(X_train, y_train), (X_test, y_test) = cifar10.load_data() \n",
    "# fetch CIFAR-10 data\n",
    "\n",
    "num_train, height, width, depth = X_train.shape \n",
    "# there are 50000 training examples in CIFAR-10 \n",
    "num_test = X_test.shape[0] \n",
    "# there are 10000 test examples in CIFAR-10\n",
    "num_classes = np.unique(y_train).shape[0] \n",
    "# there are 10 image classes\n",
    "\n",
    "X_train = X_train.astype('float32') \n",
    "X_test = X_test.astype('float32')\n",
    "X_train /= np.max(X_train) \n",
    "# Normalise data to [0, 1] range\n",
    "X_test /= np.max(X_test) \n",
    "# Normalise data to [0, 1] range\n",
    "\n",
    "Y_train = np_utils.to_categorical(y_train, num_classes) \n",
    "# One-hot encode the labels\n",
    "Y_test = np_utils.to_categorical(y_test, num_classes) \n",
    "# One-hot encode the labels"
   ]
  },
  {
   "cell_type": "code",
   "execution_count": 12,
   "metadata": {},
   "outputs": [],
   "source": [
    "inp = Input(shape=(height, width, depth)) \n",
    "# depth goes last in TensorFlow back-end (first in Theano)\n",
    "\n",
    "# Conv [32] -> Conv [32] -> Pool (with dropout on the pooling layer)\n",
    "conv_1 = Convolution2D(conv_depth_1, (kernel_size, kernel_size),\n",
    "                       padding='same', activation='relu')(inp)\n",
    "conv_2 = Convolution2D(conv_depth_1, (kernel_size, kernel_size),\n",
    "                       padding='same', activation='relu')(conv_1)\n",
    "pool_1 = MaxPooling2D(pool_size=(pool_size, pool_size))(conv_2)\n",
    "drop_1 = Dropout(drop_prob_1)(pool_1)\n",
    "\n",
    "# Conv [64] -> Conv [64] -> Pool (with dropout on the pooling layer)\n",
    "conv_3 = Convolution2D(conv_depth_2, (kernel_size, kernel_size),\n",
    "                       padding='same', activation='relu')(drop_1)\n",
    "conv_4 = Convolution2D(conv_depth_2, (kernel_size, kernel_size),\n",
    "                       padding='same', activation='relu')(conv_3)\n",
    "pool_2 = MaxPooling2D(pool_size=(pool_size, pool_size))(conv_4)\n",
    "drop_2 = Dropout(drop_prob_1)(pool_2)\n",
    "\n",
    "# Now flatten to 1D, apply FC -> ReLU (with dropout) -> softmax\n",
    "flat = Flatten()(drop_2)\n",
    "hidden = Dense(hidden_size, activation='relu')(flat)\n",
    "drop_3 = Dropout(drop_prob_2)(hidden)\n",
    "out = Dense(num_classes, activation='softmax')(drop_3)"
   ]
  },
  {
   "cell_type": "code",
   "execution_count": 13,
   "metadata": {},
   "outputs": [],
   "source": [
    "model = Model(inputs=inp, outputs=out) \n",
    "# To define a model, just specify its input and output layers\n",
    "\n",
    "# using the cross-entropy loss function\n",
    "# using the Adam optimiser\n",
    "# reporting the accuracy\n",
    "model.compile(loss='categorical_crossentropy', \n",
    "              optimizer='adam',\n",
    "              metrics=['accuracy'])"
   ]
  },
  {
   "cell_type": "code",
   "execution_count": 16,
   "metadata": {},
   "outputs": [
    {
     "data": {
      "text/plain": [
       "'model.evaluate(X_test, Y_test, verbose=1)'"
      ]
     },
     "execution_count": 16,
     "metadata": {},
     "output_type": "execute_result"
    }
   ],
   "source": [
    "# Train the model using the training set...\n",
    "# ...holding out 10% of the data for validation\n",
    "\n",
    "'''model.fit(X_train, Y_train,                \n",
    "          batch_size=batch_size, epochs=num_epochs,\n",
    "          verbose=1, validation_split=0.1) \n",
    "'''\n",
    "# Evaluate the trained model on the test set!\n",
    "'''model.evaluate(X_test, Y_test, verbose=1)'''\n",
    "\n",
    "### computer power and time consuming task"
   ]
  },
  {
   "cell_type": "code",
   "execution_count": null,
   "metadata": {},
   "outputs": [],
   "source": []
  }
 ],
 "metadata": {
  "kernelspec": {
   "display_name": "Python [default]",
   "language": "python",
   "name": "python3"
  },
  "language_info": {
   "codemirror_mode": {
    "name": "ipython",
    "version": 3
   },
   "file_extension": ".py",
   "mimetype": "text/x-python",
   "name": "python",
   "nbconvert_exporter": "python",
   "pygments_lexer": "ipython3",
   "version": "3.6.4"
  }
 },
 "nbformat": 4,
 "nbformat_minor": 2
}
