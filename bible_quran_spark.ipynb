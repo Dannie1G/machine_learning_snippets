{
 "cells": [
  {
   "cell_type": "markdown",
   "metadata": {},
   "source": [
    "# Analysing the Bible and the Quran using Spark\n",
    "\n",
    "Tutorial: https://datascienceplus.com/analyzing-the-bible-and-the-quran-using-spark/ <br>\n",
    "Bible text: http://www.gutenberg.org/files/10/10.txt <br>\n",
    "Quran text: http://www.gutenberg.org/files/2800/2800.txt"
   ]
  },
  {
   "cell_type": "code",
   "execution_count": 1,
   "metadata": {},
   "outputs": [],
   "source": [
    "from pyspark import SparkContext, SparkConf\n",
    "\n",
    "conf = SparkConf().setAppName('miniProject').setMaster('local[*]')\n",
    "sc = SparkContext.getOrCreate(conf)"
   ]
  },
  {
   "cell_type": "code",
   "execution_count": 2,
   "metadata": {},
   "outputs": [],
   "source": [
    "# create resilient distributed datasets (RDDs)\n",
    "bibleRDD = sc.textFile('bible.txt')\n",
    "quranRDD = sc.textFile('quran.txt')"
   ]
  },
  {
   "cell_type": "code",
   "execution_count": 3,
   "metadata": {},
   "outputs": [
    {
     "data": {
      "text/plain": [
       "['',\n",
       " 'numbered of them by their families were two thousand seven hundred and',\n",
       " '',\n",
       " '12:1 And Miriam and Aaron spake against Moses because of the Ethiopian',\n",
       " 'kept themselves at least from women.',\n",
       " '13:39 And the soul of king David longed to go forth unto Absalom: for',\n",
       " '24:2 For the king said to Joab the captain of the host, which was with',\n",
       " 'will do: but this thing I may not do. And the messengers departed, and',\n",
       " 'that he rent his clothes, and said, Am I God, to kill and to make',\n",
       " 'house of the LORD.',\n",
       " 'perfect gold; 4:22 And the snuffers, and the basons, and the spoons,',\n",
       " '',\n",
       " '',\n",
       " '',\n",
       " '43:6 And I heard him speaking unto me out of the house; and the man',\n",
       " 'will not accept them: neither will I regard the peace offerings of',\n",
       " '',\n",
       " 'sea; it shall be done.',\n",
       " '24:12 Then arose Peter, and ran unto the sepulchre; and stooping down,',\n",
       " '',\n",
       " '11:14 The second woe is past; and, behold, the third woe cometh',\n",
       " '']"
      ]
     },
     "execution_count": 3,
     "metadata": {},
     "output_type": "execute_result"
    }
   ],
   "source": [
    "bibleRDD.sample(withReplacement = False, fraction = 0.0002, seed = 80).collect()"
   ]
  },
  {
   "cell_type": "code",
   "execution_count": 4,
   "metadata": {},
   "outputs": [
    {
     "data": {
      "text/plain": [
       "['Many of them suffered torture for their faith in him, and two of them died as',\n",
       " 'when ye halt; and from their wool and soft fur and hair, hath He supplied you',\n",
       " 'meet for their best deeds.',\n",
       " '',\n",
       " 'and those who were before you: haply ye will fear Him']"
      ]
     },
     "execution_count": 4,
     "metadata": {},
     "output_type": "execute_result"
    }
   ],
   "source": [
    "quranRDD.sample(withReplacement = False, fraction = 0.0002, seed = 80).collect()"
   ]
  },
  {
   "cell_type": "code",
   "execution_count": 5,
   "metadata": {},
   "outputs": [
    {
     "name": "stdout",
     "output_type": "stream",
     "text": [
      "The number of lines in the Bible text file is 100222\n",
      "The number of lines in the Quran text file is 27320\n"
     ]
    }
   ],
   "source": [
    "print('The number of lines in the Bible text file is {}'.format(bibleRDD.count()))\n",
    "print('The number of lines in the Quran text file is {}'.format(quranRDD.count()))"
   ]
  },
  {
   "cell_type": "code",
   "execution_count": 6,
   "metadata": {},
   "outputs": [],
   "source": [
    "import re\n",
    "\n",
    "def wordclean(x):\n",
    "    return re.sub('[^a-zA-Z0-9\\s]+', '', x).lower().strip()"
   ]
  },
  {
   "cell_type": "code",
   "execution_count": 7,
   "metadata": {},
   "outputs": [
    {
     "name": "stdout",
     "output_type": "stream",
     "text": [
      "the sun rises in the east and sets in the west\n",
      "   he said i am sure you know the answer\n"
     ]
    }
   ],
   "source": [
    "# check function\n",
    "x = [\" The Sun rises in the East and sets in the West!\\n \"\n",
    "     \"  He said, 'I am sure you know the answer!\\n'  \"]\n",
    "\n",
    "for i in x: \n",
    "  print(wordclean(i))"
   ]
  },
  {
   "cell_type": "code",
   "execution_count": 8,
   "metadata": {},
   "outputs": [],
   "source": [
    "bibleRDDList = bibleRDD.map(lambda x : wordclean(x))\n",
    "quranRDDList = quranRDD.map(lambda x : wordclean(x))"
   ]
  },
  {
   "cell_type": "code",
   "execution_count": 9,
   "metadata": {},
   "outputs": [
    {
     "data": {
      "text/plain": [
       "['',\n",
       " '12 and the earth was without form and void and darkness was upon',\n",
       " 'the face of the deep and the spirit of god moved upon the face of the',\n",
       " 'waters',\n",
       " '',\n",
       " '13 and god said let there be light and there was light',\n",
       " '',\n",
       " '14 and god saw the light that it was good and god divided the light',\n",
       " 'from the darkness',\n",
       " '',\n",
       " '15 and god called the light day and the darkness he called night',\n",
       " 'and the evening and the morning were the first day',\n",
       " '',\n",
       " '16 and god said let there be a firmament in the midst of the waters',\n",
       " 'and let it divide the waters from the waters',\n",
       " '',\n",
       " '17 and god made the firmament and divided the waters which were',\n",
       " 'under the firmament from the waters which were above the firmament',\n",
       " 'and it was so']"
      ]
     },
     "execution_count": 9,
     "metadata": {},
     "output_type": "execute_result"
    }
   ],
   "source": [
    "bibleRDDList.take(60)[41:]"
   ]
  },
  {
   "cell_type": "code",
   "execution_count": 10,
   "metadata": {},
   "outputs": [
    {
     "data": {
      "text/plain": [
       "['mohammed was born at mecca in ad 567 or 569  his flight hijra to medina',\n",
       " 'which marks the beginning of the mohammedan era took place on 16th june 622',\n",
       " 'he died on 7th june 632',\n",
       " '',\n",
       " '',\n",
       " '',\n",
       " 'introduction',\n",
       " '',\n",
       " 'the koran admittedly occupies an important position among the great religious',\n",
       " 'books of the world though the youngest of the epochmaking works belonging',\n",
       " 'to this class of literature it yields to hardly any in the wonderful effect',\n",
       " 'which it has produced on large masses of men it has created an all but new',\n",
       " 'phase of human thought and a fresh type of character it first transformed a',\n",
       " 'number of heterogeneous desert tribes of the arabian peninsula into a nation',\n",
       " 'of heroes and then proceeded to create the vast politicoreligious',\n",
       " 'organisations of the muhammedan world which are one of the great forces with',\n",
       " 'which europe and the east have to reckon today',\n",
       " '',\n",
       " 'the secret of the power exercised by the book of course lay in the mind',\n",
       " 'which produced it it was in fact at first not a book but a strong living',\n",
       " 'voice a kind of wild authoritative proclamation a series of admonitions',\n",
       " 'promises threats and instructions addressed to turbulent and largely',\n",
       " 'hostile assemblies of untutored arabs as a book it was published after the',\n",
       " 'prophets death in muhammeds lifetime there were only disjointed notes',\n",
       " 'speeches and the retentive memories of those who listened to them to speak',\n",
       " 'of the koran is therefore practically the same as speaking of muhammed and',\n",
       " 'in trying to appraise the religious value of the book one is at the same time',\n",
       " 'attempting to form an opinion of the prophet himself it would indeed be',\n",
       " 'difficult to find another case in which there is such a complete identity',\n",
       " 'between the literary work and the mind of the man who produced it',\n",
       " '',\n",
       " 'that widely different estimates have been formed of muhammed is wellknown',\n",
       " 'to moslems he is of course the prophet par excellence and the koran is',\n",
       " 'regarded by the orthodox as nothing less than the eternal utterance of allah',\n",
       " 'the eulogy pronounced by carlyle on muhammed in heroes and hero worship will',\n",
       " 'probably be endorsed by not a few at the present day the extreme contrary']"
      ]
     },
     "execution_count": 10,
     "metadata": {},
     "output_type": "execute_result"
    }
   ],
   "source": [
    "quranRDDList.take(450)[414 : ]"
   ]
  },
  {
   "cell_type": "code",
   "execution_count": 11,
   "metadata": {},
   "outputs": [],
   "source": [
    "bibleRDDwords = bibleRDDList.flatMap( lambda x: x.split(\" \"))\n",
    "quranRDDwords = quranRDDList.flatMap( lambda x: x.split(\" \"))"
   ]
  },
  {
   "cell_type": "code",
   "execution_count": 12,
   "metadata": {},
   "outputs": [
    {
     "data": {
      "text/plain": [
       "['and', 'beyond', 'the', 'went', 'destroyed', 'thou', 'it', 'i']"
      ]
     },
     "execution_count": 12,
     "metadata": {},
     "output_type": "execute_result"
    }
   ],
   "source": [
    "bibleRDDwords.sample(withReplacement = False, fraction = 0.00001, seed = 90).collect()"
   ]
  },
  {
   "cell_type": "code",
   "execution_count": 13,
   "metadata": {},
   "outputs": [
    {
     "data": {
      "text/plain": [
       "['by', 'who', 'in', 'unto', 'drowned', 'the', 'to', 'and', 'loan', 'of']"
      ]
     },
     "execution_count": 13,
     "metadata": {},
     "output_type": "execute_result"
    }
   ],
   "source": [
    "quranRDDwords.sample(withReplacement = False, fraction = 0.00005, seed = 90).collect()"
   ]
  },
  {
   "cell_type": "code",
   "execution_count": 15,
   "metadata": {},
   "outputs": [
    {
     "data": {
      "text/plain": [
       "851189"
      ]
     },
     "execution_count": 15,
     "metadata": {},
     "output_type": "execute_result"
    }
   ],
   "source": [
    "bibleRDDwords.count()"
   ]
  },
  {
   "cell_type": "code",
   "execution_count": 16,
   "metadata": {},
   "outputs": [
    {
     "data": {
      "text/plain": [
       "217228"
      ]
     },
     "execution_count": 16,
     "metadata": {},
     "output_type": "execute_result"
    }
   ],
   "source": [
    "quranRDDwords.count()"
   ]
  },
  {
   "cell_type": "code",
   "execution_count": 17,
   "metadata": {},
   "outputs": [],
   "source": [
    "#remove spaces\n",
    "bibleRDDwords = bibleRDDwords.filter(lambda x: len(x) != 0)\n",
    "quranRDDwords = quranRDDwords.filter(lambda x: len(x) != 0)"
   ]
  },
  {
   "cell_type": "code",
   "execution_count": 18,
   "metadata": {},
   "outputs": [
    {
     "data": {
      "text/plain": [
       "824128"
      ]
     },
     "execution_count": 18,
     "metadata": {},
     "output_type": "execute_result"
    }
   ],
   "source": [
    "bibleRDDwords.count()"
   ]
  },
  {
   "cell_type": "code",
   "execution_count": 19,
   "metadata": {},
   "outputs": [
    {
     "data": {
      "text/plain": [
       "207639"
      ]
     },
     "execution_count": 19,
     "metadata": {},
     "output_type": "execute_result"
    }
   ],
   "source": [
    "quranRDDwords.count()"
   ]
  },
  {
   "cell_type": "code",
   "execution_count": 20,
   "metadata": {},
   "outputs": [],
   "source": [
    "bibleRDDwordPairs =  bibleRDDwords.map(lambda x: (x,1))\n",
    "quranRDDwordPairs =  quranRDDwords.map(lambda x: (x,1))"
   ]
  },
  {
   "cell_type": "code",
   "execution_count": 23,
   "metadata": {},
   "outputs": [
    {
     "data": {
      "text/plain": [
       "[('the', 1),\n",
       " ('project', 1),\n",
       " ('gutenberg', 1),\n",
       " ('ebook', 1),\n",
       " ('of', 1),\n",
       " ('the', 1),\n",
       " ('king', 1),\n",
       " ('james', 1),\n",
       " ('bible', 1),\n",
       " ('this', 1)]"
      ]
     },
     "execution_count": 23,
     "metadata": {},
     "output_type": "execute_result"
    }
   ],
   "source": [
    "bibleRDDwordPairs.take(10)"
   ]
  },
  {
   "cell_type": "code",
   "execution_count": 24,
   "metadata": {},
   "outputs": [
    {
     "data": {
      "text/plain": [
       "[('the', 1),\n",
       " ('project', 1),\n",
       " ('gutenberg', 1),\n",
       " ('etext', 1),\n",
       " ('of', 1),\n",
       " ('the', 1),\n",
       " ('koran', 1),\n",
       " ('as', 1),\n",
       " ('translated', 1),\n",
       " ('by', 1)]"
      ]
     },
     "execution_count": 24,
     "metadata": {},
     "output_type": "execute_result"
    }
   ],
   "source": [
    "quranRDDwordPairs.take(10)"
   ]
  },
  {
   "cell_type": "code",
   "execution_count": 25,
   "metadata": {},
   "outputs": [],
   "source": [
    "bibleRDDwordCount =  bibleRDDwordPairs.reduceByKey(lambda a, b : a + b)\n",
    "quranRDDwordCount =  quranRDDwordPairs.reduceByKey(lambda a, b : a + b)"
   ]
  },
  {
   "cell_type": "code",
   "execution_count": 26,
   "metadata": {},
   "outputs": [
    {
     "data": {
      "text/plain": [
       "[('project', 88),\n",
       " ('gutenberg', 31),\n",
       " ('ebook', 11),\n",
       " ('of', 34789),\n",
       " ('king', 2264),\n",
       " ('james', 51),\n",
       " ('bible', 8),\n",
       " ('this', 2833),\n",
       " ('is', 7014),\n",
       " ('use', 46)]"
      ]
     },
     "execution_count": 26,
     "metadata": {},
     "output_type": "execute_result"
    }
   ],
   "source": [
    "bibleRDDwordCount.take(10)"
   ]
  },
  {
   "cell_type": "code",
   "execution_count": 27,
   "metadata": {},
   "outputs": [
    {
     "data": {
      "text/plain": [
       "[('project', 38),\n",
       " ('gutenberg', 25),\n",
       " ('of', 7037),\n",
       " ('as', 1113),\n",
       " ('translated', 13),\n",
       " ('rodwell', 11),\n",
       " ('copyright', 9),\n",
       " ('are', 1242),\n",
       " ('world', 88),\n",
       " ('sure', 23)]"
      ]
     },
     "execution_count": 27,
     "metadata": {},
     "output_type": "execute_result"
    }
   ],
   "source": [
    "quranRDDwordCount.take(10)"
   ]
  },
  {
   "cell_type": "code",
   "execution_count": 28,
   "metadata": {},
   "outputs": [
    {
     "name": "stdout",
     "output_type": "stream",
     "text": [
      "[nltk_data] Downloading package stopwords to\n",
      "[nltk_data]     /Users/dannie/nltk_data...\n",
      "[nltk_data]   Package stopwords is already up-to-date!\n"
     ]
    },
    {
     "data": {
      "text/plain": [
       "True"
      ]
     },
     "execution_count": 28,
     "metadata": {},
     "output_type": "execute_result"
    }
   ],
   "source": [
    "import nltk\n",
    "nltk.download('stopwords')"
   ]
  },
  {
   "cell_type": "code",
   "execution_count": 29,
   "metadata": {},
   "outputs": [
    {
     "data": {
      "text/plain": [
       "179"
      ]
     },
     "execution_count": 29,
     "metadata": {},
     "output_type": "execute_result"
    }
   ],
   "source": [
    "from nltk.corpus import stopwords\n",
    "stopwords = stopwords.words('english')\n",
    "len(stopwords)"
   ]
  },
  {
   "cell_type": "code",
   "execution_count": 30,
   "metadata": {},
   "outputs": [
    {
     "data": {
      "text/plain": [
       "['i', 'me', 'my', 'myself', 'we', 'our', 'ours', 'ourselves', 'you', \"you're\"]"
      ]
     },
     "execution_count": 30,
     "metadata": {},
     "output_type": "execute_result"
    }
   ],
   "source": [
    "stopwords[:10]"
   ]
  },
  {
   "cell_type": "code",
   "execution_count": 31,
   "metadata": {},
   "outputs": [],
   "source": [
    "bibleRDD_wc_filt = bibleRDDwordCount.filter(lambda x : x[0] not in stopwords)\n",
    "quranRDD_wc_filt = quranRDDwordCount.filter(lambda x : x[0] not in stopwords)"
   ]
  },
  {
   "cell_type": "code",
   "execution_count": 32,
   "metadata": {},
   "outputs": [
    {
     "data": {
      "text/plain": [
       "[('shall', 9840),\n",
       " ('unto', 8997),\n",
       " ('lord', 7830),\n",
       " ('thou', 5474),\n",
       " ('thy', 4600),\n",
       " ('god', 4442),\n",
       " ('said', 3999),\n",
       " ('ye', 3983),\n",
       " ('thee', 3826),\n",
       " ('upon', 2750)]"
      ]
     },
     "execution_count": 32,
     "metadata": {},
     "output_type": "execute_result"
    }
   ],
   "source": [
    "bibleRDD_wc_filt.takeOrdered(10, lambda x : -x[1])"
   ]
  },
  {
   "cell_type": "code",
   "execution_count": 33,
   "metadata": {},
   "outputs": [
    {
     "data": {
      "text/plain": [
       "[('god', 3180),\n",
       " ('shall', 2331),\n",
       " ('ye', 1798),\n",
       " ('hath', 951),\n",
       " ('lord', 921),\n",
       " ('said', 894),\n",
       " ('thou', 813),\n",
       " ('say', 758),\n",
       " ('thee', 640),\n",
       " ('day', 535)]"
      ]
     },
     "execution_count": 33,
     "metadata": {},
     "output_type": "execute_result"
    }
   ],
   "source": [
    "quranRDD_wc_filt.takeOrdered(10, lambda x : -x[1])"
   ]
  },
  {
   "cell_type": "code",
   "execution_count": 35,
   "metadata": {},
   "outputs": [
    {
     "name": "stdout",
     "output_type": "stream",
     "text": [
      " The total number of unique words in the bible is 16814 while the unique number of words in the Quran is 12551\n"
     ]
    }
   ],
   "source": [
    "unique_words_bible = bibleRDD_wc_filt.count()\n",
    "unique_words_quran = quranRDD_wc_filt.count()\n",
    "print(\" The total number of unique words in the bible is {} while the unique number of words in the Quran is {}\".\\\n",
    "      format(unique_words_bible, unique_words_quran ))"
   ]
  },
  {
   "cell_type": "code",
   "execution_count": 36,
   "metadata": {},
   "outputs": [
    {
     "name": "stdout",
     "output_type": "stream",
     "text": [
      "Total number of words in the Bible: 407741\n"
     ]
    }
   ],
   "source": [
    "total_words_bible = bibleRDD_wc_filt.map(lambda a: a[1]).reduce(lambda a, b : a + b)\n",
    "print(\"Total number of words in the Bible: {}\".format(total_words_bible))"
   ]
  },
  {
   "cell_type": "code",
   "execution_count": 37,
   "metadata": {},
   "outputs": [
    {
     "name": "stdout",
     "output_type": "stream",
     "text": [
      "Total number of words in the Quran: 100096\n"
     ]
    }
   ],
   "source": [
    "total_words_quran = quranRDD_wc_filt.map(lambda a: a[1]).reduce(lambda a, b : a + b)\n",
    "print(\"Total number of words in the Quran: {}\".format(total_words_quran))"
   ]
  },
  {
   "cell_type": "code",
   "execution_count": 38,
   "metadata": {},
   "outputs": [
    {
     "name": "stdout",
     "output_type": "stream",
     "text": [
      "Average word frequency in the Bible is  24.3 while the average word frequency in the Quran is 8.0\n"
     ]
    }
   ],
   "source": [
    "Average_word_count_bible = total_words_bible/unique_words_bible\n",
    "Average_word_count_quran = total_words_quran/unique_words_quran\n",
    "print('Average word frequency in the Bible is  {} while the average word frequency in the Quran is {}'.\\\n",
    "      format(round(Average_word_count_bible,1), round(Average_word_count_quran,1)))"
   ]
  },
  {
   "cell_type": "code",
   "execution_count": 39,
   "metadata": {},
   "outputs": [],
   "source": [
    "import numpy as np"
   ]
  },
  {
   "cell_type": "code",
   "execution_count": 47,
   "metadata": {},
   "outputs": [],
   "source": [
    "# take word frequencies into numpy arrays\n",
    "bibleRDD_wc_value = bibleRDD_wc_filt.map(lambda x : x[1]).collect()\n",
    "quranRDD_wc_value = quranRDD_wc_filt.map(lambda x : x[1]).collect()"
   ]
  },
  {
   "cell_type": "code",
   "execution_count": 48,
   "metadata": {},
   "outputs": [
    {
     "data": {
      "text/plain": [
       "[88, 31, 11, 2264, 51, 8, 46, 5, 2, 2]"
      ]
     },
     "execution_count": 48,
     "metadata": {},
     "output_type": "execute_result"
    }
   ],
   "source": [
    "bibleRDD_wc_value[:10]"
   ]
  },
  {
   "cell_type": "code",
   "execution_count": 49,
   "metadata": {},
   "outputs": [
    {
     "data": {
      "text/plain": [
       "[38, 25, 13, 11, 9, 88, 23, 3, 17, 1]"
      ]
     },
     "execution_count": 49,
     "metadata": {},
     "output_type": "execute_result"
    }
   ],
   "source": [
    "quranRDD_wc_value[:10]"
   ]
  },
  {
   "cell_type": "code",
   "execution_count": 50,
   "metadata": {},
   "outputs": [],
   "source": [
    "bibleRDD_wc_np = np.array(bibleRDD_wc_value)\n",
    "quranRDD_wc_np = np.array(quranRDD_wc_value)"
   ]
  },
  {
   "cell_type": "code",
   "execution_count": 52,
   "metadata": {},
   "outputs": [
    {
     "data": {
      "image/png": "[encoded data removed]",
      "text/plain": [
       "<matplotlib.figure.Figure at 0x115a5e8d0>"
      ]
     },
     "metadata": {},
     "output_type": "display_data"
    }
   ],
   "source": [
    "import matplotlib.pyplot as plt\n",
    "%matplotlib inline\n",
    "\n",
    "plt.figure(figsize = (20, 10))\n",
    "plt.hist(np.log10(bibleRDD_wc_np), color = \"orange\")\n",
    "plt.title(\"Distribution of words in the Bible\", fontsize = 28)\n",
    "plt.xlabel(\"Log scale\", fontsize = 16)\n",
    "plt.xticks(size = 18)\n",
    "plt.yticks(size = 18)\n",
    "plt.show()"
   ]
  },
  {
   "cell_type": "code",
   "execution_count": 53,
   "metadata": {},
   "outputs": [
    {
     "data": {
      "image/png": "[encoded data removed]",
      "text/plain": [
       "<matplotlib.figure.Figure at 0x115a99c88>"
      ]
     },
     "metadata": {},
     "output_type": "display_data"
    }
   ],
   "source": [
    "plt.figure(figsize = (20, 10))\n",
    "plt.hist(np.log10(quranRDD_wc_np))\n",
    "plt.title(\"Distribution of words in the Quran\", fontsize = 28)\n",
    "plt.xlabel(\"Log scale\", fontsize = 16)\n",
    "plt.xticks(size = 18)\n",
    "plt.yticks(size = 18)\n",
    "plt.show()"
   ]
  },
  {
   "cell_type": "code",
   "execution_count": 54,
   "metadata": {},
   "outputs": [],
   "source": [
    "# create a dataframe using the top 15 most common words\n",
    "import pandas as pd\n",
    "\n",
    "bible_top15_words = bibleRDD_wc_filt.takeOrdered(15, lambda x : -x[1])\n",
    "quran_top15_words = quranRDD_wc_filt.takeOrdered(15, lambda x : -x[1])\n",
    "bible_words = [x[0] for x in bible_top15_words]\n",
    "bible_count = [x[1] for x in bible_top15_words]\n",
    "bible_dict = {\"word\": bible_words, \"frequency\": bible_count}\n",
    "\n",
    "quran_words = [x[0] for x in quran_top15_words]\n",
    "quran_count = [x[1] for x in quran_top15_words]\n",
    "quran_dict = {\"word\": quran_words, \"frequency\": quran_count}\n",
    "\n",
    "df_bible = pd.DataFrame(bible_dict)\n",
    "df_quran = pd.DataFrame(quran_dict)"
   ]
  },
  {
   "cell_type": "code",
   "execution_count": 55,
   "metadata": {},
   "outputs": [
    {
     "data": {
      "image/png": "[encoded data removed]",
      "text/plain": [
       "<matplotlib.figure.Figure at 0x103237f98>"
      ]
     },
     "metadata": {},
     "output_type": "display_data"
    }
   ],
   "source": [
    "my_plot = df_bible.plot(figsize = (20, 10), \n",
    "              x = \"word\", y = \"frequency\", kind  = \"barh\", legend = False )\n",
    "my_plot.invert_yaxis()\n",
    "plt.title(\"Frequency of the most common words in the Bible\", fontsize = 28)\n",
    "plt.xticks(size = 18)\n",
    "plt.yticks(size = 18)\n",
    "plt.ylabel(\"\")\n",
    "plt.show()"
   ]
  },
  {
   "cell_type": "code",
   "execution_count": 56,
   "metadata": {},
   "outputs": [
    {
     "data": {
      "image/png": "[encoded data removed]",
      "text/plain": [
       "<matplotlib.figure.Figure at 0x11a0e87b8>"
      ]
     },
     "metadata": {},
     "output_type": "display_data"
    }
   ],
   "source": [
    "my_plot = df_quran.plot(figsize = (20, 10), \n",
    "              x = \"word\", y = \"frequency\", kind  = \"barh\", legend = False )\n",
    "my_plot.invert_yaxis()\n",
    "plt.title(\"Frequency of the most common words in the Quran\", fontsize = 28)\n",
    "plt.xticks(size = 18)\n",
    "plt.yticks(size = 18)\n",
    "plt.ylabel(\"\")\n",
    "plt.show()"
   ]
  },
  {
   "cell_type": "code",
   "execution_count": null,
   "metadata": {},
   "outputs": [],
   "source": []
  }
 ],
 "metadata": {
  "kernelspec": {
   "display_name": "Python [conda env:playtime]",
   "language": "python",
   "name": "conda-env-playtime-py"
  },
  "language_info": {
   "codemirror_mode": {
    "name": "ipython",
    "version": 3
   },
   "file_extension": ".py",
   "mimetype": "text/x-python",
   "name": "python",
   "nbconvert_exporter": "python",
   "pygments_lexer": "ipython3",
   "version": "3.6.4"
  }
 },
 "nbformat": 4,
 "nbformat_minor": 2
}
